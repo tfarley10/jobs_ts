{
 "cells": [
  {
   "cell_type": "code",
   "execution_count": 1,
   "metadata": {},
   "outputs": [],
   "source": [
    "import pandas as pd"
   ]
  },
  {
   "cell_type": "code",
   "execution_count": 55,
   "metadata": {},
   "outputs": [],
   "source": [
    "# write simple query\n",
    "query = \"https://data.cityofnewyork.us/resource/ic3t-wcy2.json?\"\\\n",
    "\"$select=pre__filing_date,borough\"\\\n",
    "\"&$limit=1000000\"\n",
    "\n",
    "# read in 1 mm rows\n",
    "d = pd.read_json(query)"
   ]
  },
  {
   "cell_type": "code",
   "execution_count": 58,
   "metadata": {},
   "outputs": [],
   "source": [
    "# tranform date\n",
    "d['date'] = pd.to_datetime(d['pre__filing_date'])\n",
    "\n",
    "# group by dates, count values\n",
    "df = d['date'].dt.date.value_counts().sort_index().reset_index()\n",
    "\n",
    "# rename columns\n",
    "df.columns = ['date', 'counts']\n"
   ]
  },
  {
   "cell_type": "code",
   "execution_count": 63,
   "metadata": {},
   "outputs": [],
   "source": [
    "import seaborn as sns\n",
    "\n",
    "# create 7 day ma\n",
    "df['ma_week'] = df.rolling(7).mean()\n",
    "\n",
    "# make ts plot\n",
    "sns.lineplot(data = df, x = \"date\", y = \"ma_week\")"
   ]
  }
 ],
 "metadata": {
  "kernelspec": {
   "display_name": "Python 3",
   "language": "python",
   "name": "python3"
  },
  "language_info": {
   "codemirror_mode": {
    "name": "ipython",
    "version": 3
   },
   "file_extension": ".py",
   "mimetype": "text/x-python",
   "name": "python",
   "nbconvert_exporter": "python",
   "pygments_lexer": "ipython3",
   "version": "3.8.3"
  }
 },
 "nbformat": 4,
 "nbformat_minor": 4
}
